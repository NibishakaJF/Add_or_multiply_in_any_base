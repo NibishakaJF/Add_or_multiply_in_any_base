{
 "cells": [
  {
   "cell_type": "markdown",
   "id": "bda9376c",
   "metadata": {},
   "source": [
    "In mathematics, the term \"base\" refers to the number of digits used in a number system. For example, the decimal number system (which is used in everyday life) has a base of 10, meaning it uses 10 digits (0-9) to represent all numbers. The binary number system has a base of 2, meaning it uses only 2 digits (0 and 1) to represent all numbers.\n",
    "\n",
    "When working with numbers in different bases, it's important to understand the concept of place value. Each digit in a number represents a different power of the base.\n",
    "\n",
    "Understanding bases and place value is important when working with different number systems and when converting numbers between different bases."
   ]
  },
  {
   "cell_type": "code",
   "execution_count": 13,
   "id": "8b46e9b6",
   "metadata": {},
   "outputs": [
    {
     "name": "stdout",
     "output_type": "stream",
     "text": [
      "Enter the first number: 646\n",
      "Enter the second number: 43C\n",
      "Enter the base: 15\n",
      "Enter the operation (+ or *): *\n",
      "646 * 43C in base 15 is 1BB7AC\n"
     ]
    }
   ],
   "source": [
    "def perform_operation(num1, num2, base, operation):\n",
    "    # Define the mapping from characters to values\n",
    "    mapping = {'0': 0, '1': 1, '2': 2, '3': 3, '4': 4, '5': 5, '6': 6, '7': 7, '8': 8, '9': 9,\n",
    "               'A': 10, 'B': 11, 'C': 12, 'D': 13, 'E': 14, 'F': 15, 'G': 16, 'H': 17, 'I': 18, 'J': 19,\n",
    "               'K': 20, 'L': 21, 'M': 22, 'N': 23, 'O': 24, 'P': 25, 'Q': 26, 'R': 27, 'S': 28, 'T': 29,\n",
    "               'U': 30, 'V': 31, 'W': 32, 'X': 33, 'Y': 34, 'Z': 35}\n",
    "    \n",
    "    # Convert the numbers to base ten\n",
    "    base_ten1 = 0\n",
    "    for digit in str(num1):\n",
    "        base_ten1 = base * base_ten1 + mapping[digit]\n",
    "    base_ten2 = 0\n",
    "    for digit in str(num2):\n",
    "        base_ten2 = base * base_ten2 + mapping[digit]\n",
    "    \n",
    "    # Perform the specified operation\n",
    "    if operation == '+':\n",
    "        result_base_ten = base_ten1 + base_ten2\n",
    "    elif operation == '*':\n",
    "        result_base_ten = base_ten1 * base_ten2\n",
    "    else:\n",
    "        print(\"Invalid operation. Please enter '+' or '*'\")\n",
    "        return\n",
    "    \n",
    "    # Convert the result back to the specified base\n",
    "    digits = []\n",
    "    while result_base_ten > 0:\n",
    "        digit = result_base_ten % base\n",
    "        if digit >= 10:\n",
    "            digit = chr(ord('A') + digit - 10)\n",
    "        digits.append(str(digit))\n",
    "        result_base_ten //= base\n",
    "    digits.reverse()\n",
    "    result = ''.join(digits)\n",
    "    return result\n",
    "\n",
    "# Ask the user to enter the two numbers, the base, and the operation to perform\n",
    "num1 = input(\"Enter the first number: \")\n",
    "num2 = input(\"Enter the second number: \")\n",
    "base = int(input(\"Enter the base: \"))\n",
    "operation = input(\"Enter the operation (+ or *): \")\n",
    "\n",
    "# Perform the specified operation on the numbers\n",
    "result = perform_operation(num1, num2, base, operation)\n",
    "\n",
    "# Print the result\n",
    "print(f\"{num1} {operation} {num2} in base {base} is {result}\")\n"
   ]
  },
  {
   "cell_type": "markdown",
   "id": "434328d8",
   "metadata": {},
   "source": [
    "To use this code, simply run the cell in your Jupyter Notebook and follow the prompts to enter the two numbers, the base, and the operation to perform. The code will then perform the specified operation on the numbers and print the result in the specified base.\n",
    "\n",
    "For example, to add 101 and 110 in base 2, you would enter 101 for num1, 110 for num2, 2 for base, and + for operation. The code will then perform the addition and print the result like this: 101 + 110 in base 2 is 1011. To multiply AB and CD in base 16, you would enter AB for num1, CD for num2, 16 for base, and * for operation. The code will then perform the multiplication and print the result like this: AB * CD in base 16 is 6C75."
   ]
  },
  {
   "cell_type": "code",
   "execution_count": null,
   "id": "54325e0a",
   "metadata": {},
   "outputs": [],
   "source": []
  }
 ],
 "metadata": {
  "kernelspec": {
   "display_name": "Python 3 (ipykernel)",
   "language": "python",
   "name": "python3"
  },
  "language_info": {
   "codemirror_mode": {
    "name": "ipython",
    "version": 3
   },
   "file_extension": ".py",
   "mimetype": "text/x-python",
   "name": "python",
   "nbconvert_exporter": "python",
   "pygments_lexer": "ipython3",
   "version": "3.9.12"
  }
 },
 "nbformat": 4,
 "nbformat_minor": 5
}
